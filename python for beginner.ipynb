{
 "cells": [
  {
   "cell_type": "code",
   "execution_count": 1,
   "id": "cb85ef66",
   "metadata": {},
   "outputs": [
    {
     "data": {
      "text/plain": [
       "10"
      ]
     },
     "execution_count": 1,
     "metadata": {},
     "output_type": "execute_result"
    }
   ],
   "source": [
    "a1 = 10\n",
    "a1"
   ]
  },
  {
   "cell_type": "code",
   "execution_count": 2,
   "id": "fa97fbf3",
   "metadata": {},
   "outputs": [
    {
     "data": {
      "text/plain": [
       "int"
      ]
     },
     "execution_count": 2,
     "metadata": {},
     "output_type": "execute_result"
    }
   ],
   "source": [
    "type(a1)"
   ]
  },
  {
   "cell_type": "code",
   "execution_count": 3,
   "id": "683017b8",
   "metadata": {},
   "outputs": [
    {
     "data": {
      "text/plain": [
       "3.14"
      ]
     },
     "execution_count": 3,
     "metadata": {},
     "output_type": "execute_result"
    }
   ],
   "source": [
    "a1 =3.14\n",
    "a1"
   ]
  },
  {
   "cell_type": "code",
   "execution_count": 4,
   "id": "844eb02d",
   "metadata": {},
   "outputs": [
    {
     "data": {
      "text/plain": [
       "float"
      ]
     },
     "execution_count": 4,
     "metadata": {},
     "output_type": "execute_result"
    }
   ],
   "source": [
    "type(3.14)"
   ]
  },
  {
   "cell_type": "code",
   "execution_count": 5,
   "id": "2535ba22",
   "metadata": {},
   "outputs": [
    {
     "data": {
      "text/plain": [
       "True"
      ]
     },
     "execution_count": 5,
     "metadata": {},
     "output_type": "execute_result"
    }
   ],
   "source": [
    "a1 = True\n",
    "a1"
   ]
  },
  {
   "cell_type": "code",
   "execution_count": 6,
   "id": "dcb05eaf",
   "metadata": {},
   "outputs": [
    {
     "data": {
      "text/plain": [
       "bool"
      ]
     },
     "execution_count": 6,
     "metadata": {},
     "output_type": "execute_result"
    }
   ],
   "source": [
    "type(a1)"
   ]
  },
  {
   "cell_type": "code",
   "execution_count": 7,
   "id": "07790878",
   "metadata": {},
   "outputs": [
    {
     "data": {
      "text/plain": [
       "'Hello world'"
      ]
     },
     "execution_count": 7,
     "metadata": {},
     "output_type": "execute_result"
    }
   ],
   "source": [
    "a1 = \"Hello world\"\n",
    "a1"
   ]
  },
  {
   "cell_type": "code",
   "execution_count": 8,
   "id": "b1e5fced",
   "metadata": {},
   "outputs": [
    {
     "data": {
      "text/plain": [
       "str"
      ]
     },
     "execution_count": 8,
     "metadata": {},
     "output_type": "execute_result"
    }
   ],
   "source": [
    "type(a1)"
   ]
  },
  {
   "cell_type": "code",
   "execution_count": 9,
   "id": "ec083048",
   "metadata": {},
   "outputs": [
    {
     "data": {
      "text/plain": [
       "(3+4j)"
      ]
     },
     "execution_count": 9,
     "metadata": {},
     "output_type": "execute_result"
    }
   ],
   "source": [
    "a1 = 3+4j\n",
    "a1"
   ]
  },
  {
   "cell_type": "code",
   "execution_count": 10,
   "id": "4928ab81",
   "metadata": {},
   "outputs": [
    {
     "data": {
      "text/plain": [
       "complex"
      ]
     },
     "execution_count": 10,
     "metadata": {},
     "output_type": "execute_result"
    }
   ],
   "source": [
    "type(a1)"
   ]
  },
  {
   "cell_type": "code",
   "execution_count": 11,
   "id": "a5329865",
   "metadata": {},
   "outputs": [],
   "source": [
    "# Arithmetric operators"
   ]
  },
  {
   "cell_type": "code",
   "execution_count": 12,
   "id": "1850fc76",
   "metadata": {},
   "outputs": [],
   "source": [
    "# +,-,/,*"
   ]
  },
  {
   "cell_type": "code",
   "execution_count": 13,
   "id": "3f0eaf62",
   "metadata": {},
   "outputs": [],
   "source": [
    "a = 10\n",
    "b = 20"
   ]
  },
  {
   "cell_type": "code",
   "execution_count": 14,
   "id": "3d3eab47",
   "metadata": {},
   "outputs": [
    {
     "data": {
      "text/plain": [
       "(10, 20)"
      ]
     },
     "execution_count": 14,
     "metadata": {},
     "output_type": "execute_result"
    }
   ],
   "source": [
    "a,b"
   ]
  },
  {
   "cell_type": "code",
   "execution_count": 15,
   "id": "d6793bc0",
   "metadata": {},
   "outputs": [
    {
     "data": {
      "text/plain": [
       "30"
      ]
     },
     "execution_count": 15,
     "metadata": {},
     "output_type": "execute_result"
    }
   ],
   "source": [
    "a+b"
   ]
  },
  {
   "cell_type": "code",
   "execution_count": 16,
   "id": "5799bcc6",
   "metadata": {},
   "outputs": [
    {
     "data": {
      "text/plain": [
       "-10"
      ]
     },
     "execution_count": 16,
     "metadata": {},
     "output_type": "execute_result"
    }
   ],
   "source": [
    "a-b"
   ]
  },
  {
   "cell_type": "code",
   "execution_count": 17,
   "id": "d88fc8ee",
   "metadata": {},
   "outputs": [
    {
     "data": {
      "text/plain": [
       "200"
      ]
     },
     "execution_count": 17,
     "metadata": {},
     "output_type": "execute_result"
    }
   ],
   "source": [
    "a*b"
   ]
  },
  {
   "cell_type": "code",
   "execution_count": 18,
   "id": "dbd88bbc",
   "metadata": {},
   "outputs": [
    {
     "data": {
      "text/plain": [
       "0.5"
      ]
     },
     "execution_count": 18,
     "metadata": {},
     "output_type": "execute_result"
    }
   ],
   "source": [
    "a/b"
   ]
  },
  {
   "cell_type": "code",
   "execution_count": 19,
   "id": "4cbfa19c",
   "metadata": {},
   "outputs": [],
   "source": [
    "#Relational operators"
   ]
  },
  {
   "cell_type": "code",
   "execution_count": 20,
   "id": "22b786cf",
   "metadata": {},
   "outputs": [],
   "source": [
    "#<,>,==,!="
   ]
  },
  {
   "cell_type": "code",
   "execution_count": 21,
   "id": "ef6a2fc2",
   "metadata": {},
   "outputs": [],
   "source": [
    "a = 50\n",
    "b = 100"
   ]
  },
  {
   "cell_type": "code",
   "execution_count": 22,
   "id": "7ca738ef",
   "metadata": {},
   "outputs": [
    {
     "data": {
      "text/plain": [
       "False"
      ]
     },
     "execution_count": 22,
     "metadata": {},
     "output_type": "execute_result"
    }
   ],
   "source": [
    "a>b"
   ]
  },
  {
   "cell_type": "code",
   "execution_count": 23,
   "id": "206cbaaf",
   "metadata": {},
   "outputs": [
    {
     "data": {
      "text/plain": [
       "True"
      ]
     },
     "execution_count": 23,
     "metadata": {},
     "output_type": "execute_result"
    }
   ],
   "source": [
    "a<b"
   ]
  },
  {
   "cell_type": "code",
   "execution_count": 24,
   "id": "648fb16a",
   "metadata": {},
   "outputs": [
    {
     "data": {
      "text/plain": [
       "False"
      ]
     },
     "execution_count": 24,
     "metadata": {},
     "output_type": "execute_result"
    }
   ],
   "source": [
    "a==b"
   ]
  },
  {
   "cell_type": "code",
   "execution_count": 25,
   "id": "6393bb7b",
   "metadata": {},
   "outputs": [
    {
     "data": {
      "text/plain": [
       "True"
      ]
     },
     "execution_count": 25,
     "metadata": {},
     "output_type": "execute_result"
    }
   ],
   "source": [
    "a!=b"
   ]
  },
  {
   "cell_type": "code",
   "execution_count": 26,
   "id": "f9c6fad5",
   "metadata": {},
   "outputs": [],
   "source": [
    "#logical operators"
   ]
  },
  {
   "cell_type": "code",
   "execution_count": 30,
   "id": "6421fe85",
   "metadata": {},
   "outputs": [],
   "source": [
    "a =True\n",
    "b = False"
   ]
  },
  {
   "cell_type": "code",
   "execution_count": 31,
   "id": "0a444146",
   "metadata": {},
   "outputs": [
    {
     "data": {
      "text/plain": [
       "False"
      ]
     },
     "execution_count": 31,
     "metadata": {},
     "output_type": "execute_result"
    }
   ],
   "source": [
    "b & b"
   ]
  },
  {
   "cell_type": "code",
   "execution_count": 32,
   "id": "4ac78ab4",
   "metadata": {},
   "outputs": [
    {
     "data": {
      "text/plain": [
       "True"
      ]
     },
     "execution_count": 32,
     "metadata": {},
     "output_type": "execute_result"
    }
   ],
   "source": [
    "a | b"
   ]
  },
  {
   "cell_type": "code",
   "execution_count": 34,
   "id": "444cbd19",
   "metadata": {},
   "outputs": [
    {
     "data": {
      "text/plain": [
       "False"
      ]
     },
     "execution_count": 34,
     "metadata": {},
     "output_type": "execute_result"
    }
   ],
   "source": [
    "b | b"
   ]
  },
  {
   "cell_type": "code",
   "execution_count": 35,
   "id": "2349f4e1",
   "metadata": {},
   "outputs": [],
   "source": [
    "str1 = \"this is my first string\""
   ]
  },
  {
   "cell_type": "code",
   "execution_count": 36,
   "id": "73ae9bb0",
   "metadata": {},
   "outputs": [
    {
     "data": {
      "text/plain": [
       "'this is my first string'"
      ]
     },
     "execution_count": 36,
     "metadata": {},
     "output_type": "execute_result"
    }
   ],
   "source": [
    "str1"
   ]
  },
  {
   "cell_type": "code",
   "execution_count": 37,
   "id": "560f4524",
   "metadata": {},
   "outputs": [
    {
     "data": {
      "text/plain": [
       "'this is my second string'"
      ]
     },
     "execution_count": 37,
     "metadata": {},
     "output_type": "execute_result"
    }
   ],
   "source": [
    "str2 =\"this is my second string\"\n",
    "str2"
   ]
  },
  {
   "cell_type": "code",
   "execution_count": 38,
   "id": "b28e494c",
   "metadata": {},
   "outputs": [],
   "source": [
    "str3 ='''               \n",
    "This string\n",
    "has\n",
    "lot of lines\n",
    "lkn it\n",
    "'''"
   ]
  },
  {
   "cell_type": "code",
   "execution_count": 39,
   "id": "1e00b854",
   "metadata": {},
   "outputs": [
    {
     "data": {
      "text/plain": [
       "'               \\nThis string\\nhas\\nlot of lines\\nlkn it\\n'"
      ]
     },
     "execution_count": 39,
     "metadata": {},
     "output_type": "execute_result"
    }
   ],
   "source": [
    "str3"
   ]
  },
  {
   "cell_type": "code",
   "execution_count": 40,
   "id": "b89a01cf",
   "metadata": {},
   "outputs": [],
   "source": [
    "# Extracting Individual Characters"
   ]
  },
  {
   "cell_type": "code",
   "execution_count": 41,
   "id": "e4e3632d",
   "metadata": {},
   "outputs": [],
   "source": [
    "my_string=\"My name is John\""
   ]
  },
  {
   "cell_type": "code",
   "execution_count": 42,
   "id": "5b12c06a",
   "metadata": {},
   "outputs": [
    {
     "data": {
      "text/plain": [
       "'My name is John'"
      ]
     },
     "execution_count": 42,
     "metadata": {},
     "output_type": "execute_result"
    }
   ],
   "source": [
    "my_string"
   ]
  },
  {
   "cell_type": "code",
   "execution_count": 43,
   "id": "e26d9c74",
   "metadata": {},
   "outputs": [
    {
     "data": {
      "text/plain": [
       "'M'"
      ]
     },
     "execution_count": 43,
     "metadata": {},
     "output_type": "execute_result"
    }
   ],
   "source": [
    "my_string[0]"
   ]
  },
  {
   "cell_type": "code",
   "execution_count": 44,
   "id": "ab6b63de",
   "metadata": {},
   "outputs": [],
   "source": [
    "my_string=\"My name is John\""
   ]
  },
  {
   "cell_type": "code",
   "execution_count": 45,
   "id": "da0ec207",
   "metadata": {},
   "outputs": [
    {
     "data": {
      "text/plain": [
       "'n'"
      ]
     },
     "execution_count": 45,
     "metadata": {},
     "output_type": "execute_result"
    }
   ],
   "source": [
    "my_string[-1]"
   ]
  },
  {
   "cell_type": "code",
   "execution_count": 46,
   "id": "c353c6d0",
   "metadata": {},
   "outputs": [],
   "source": [
    "# String Functions"
   ]
  },
  {
   "cell_type": "code",
   "execution_count": 47,
   "id": "0ef9cff2",
   "metadata": {},
   "outputs": [],
   "source": [
    "# Finding length of string"
   ]
  },
  {
   "cell_type": "code",
   "execution_count": 48,
   "id": "5e4ceba6",
   "metadata": {},
   "outputs": [
    {
     "data": {
      "text/plain": [
       "15"
      ]
     },
     "execution_count": 48,
     "metadata": {},
     "output_type": "execute_result"
    }
   ],
   "source": [
    "len(my_string)"
   ]
  },
  {
   "cell_type": "code",
   "execution_count": 49,
   "id": "050a5514",
   "metadata": {},
   "outputs": [],
   "source": [
    "# converting String to lower case"
   ]
  },
  {
   "cell_type": "code",
   "execution_count": 50,
   "id": "d75db763",
   "metadata": {},
   "outputs": [
    {
     "data": {
      "text/plain": [
       "'my name is john'"
      ]
     },
     "execution_count": 50,
     "metadata": {},
     "output_type": "execute_result"
    }
   ],
   "source": [
    "my_string.lower()"
   ]
  },
  {
   "cell_type": "code",
   "execution_count": 51,
   "id": "3e712715",
   "metadata": {},
   "outputs": [],
   "source": [
    "# converting String to upper case"
   ]
  },
  {
   "cell_type": "code",
   "execution_count": 52,
   "id": "c56bec60",
   "metadata": {},
   "outputs": [
    {
     "data": {
      "text/plain": [
       "'MY NAME IS JOHN'"
      ]
     },
     "execution_count": 52,
     "metadata": {},
     "output_type": "execute_result"
    }
   ],
   "source": [
    "my_string.upper()"
   ]
  },
  {
   "cell_type": "code",
   "execution_count": null,
   "id": "a2c6a9c2",
   "metadata": {},
   "outputs": [],
   "source": []
  }
 ],
 "metadata": {
  "kernelspec": {
   "display_name": "Python 3 (ipykernel)",
   "language": "python",
   "name": "python3"
  },
  "language_info": {
   "codemirror_mode": {
    "name": "ipython",
    "version": 3
   },
   "file_extension": ".py",
   "mimetype": "text/x-python",
   "name": "python",
   "nbconvert_exporter": "python",
   "pygments_lexer": "ipython3",
   "version": "3.9.7"
  }
 },
 "nbformat": 4,
 "nbformat_minor": 5
}

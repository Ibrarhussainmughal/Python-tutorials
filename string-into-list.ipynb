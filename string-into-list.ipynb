{
 "cells": [
  {
   "cell_type": "markdown",
   "id": "dda3b99c",
   "metadata": {},
   "source": [
    "# PROGRAM TO CONVERT STRING TO A LIST\n",
    "1- multiple strings convert into list\n",
    "2- we want complete strings worlds or if user give multiple inputs then we need to convert multiple inputs into list.HOW?"
   ]
  },
  {
   "cell_type": "code",
   "execution_count": 2,
   "id": "1fa289a7",
   "metadata": {},
   "outputs": [
    {
     "name": "stdout",
     "output_type": "stream",
     "text": [
      "Enter the valueWelcome to Nahdi Company\n"
     ]
    }
   ],
   "source": [
    "r = input(\"Enter the value\")"
   ]
  },
  {
   "cell_type": "code",
   "execution_count": 4,
   "id": "2fdcd382",
   "metadata": {},
   "outputs": [
    {
     "data": {
      "text/plain": [
       "['Welcome', 'to', 'Nahdi', 'Company']"
      ]
     },
     "execution_count": 4,
     "metadata": {},
     "output_type": "execute_result"
    }
   ],
   "source": [
    "l = r.split();\n",
    "l"
   ]
  },
  {
   "cell_type": "markdown",
   "id": "1032f686",
   "metadata": {},
   "source": [
    "# user Multiple strings"
   ]
  },
  {
   "cell_type": "code",
   "execution_count": 32,
   "id": "f080730a",
   "metadata": {},
   "outputs": [
    {
     "name": "stdout",
     "output_type": "stream",
     "text": [
      "Enter The Values1:-my\n",
      "my\n",
      "Enter The Values2:-name\n",
      "name\n",
      "Enter The Values3:-is\n",
      "is\n",
      "Enter The Values4:-ibrar\n",
      "ibrar\n",
      "['my', 'name', 'is', 'ibrar']\n"
     ]
    }
   ],
   "source": [
    "l =[]\n",
    "for d in range(1,5):\n",
    "    i=input(\"Enter The Values\"+str(d)+\":-\")\n",
    "    print(i)\n",
    "    l.append(i)\n",
    "print(l)"
   ]
  },
  {
   "cell_type": "code",
   "execution_count": null,
   "id": "65e5d9ed",
   "metadata": {},
   "outputs": [],
   "source": []
  }
 ],
 "metadata": {
  "kernelspec": {
   "display_name": "Python 3 (ipykernel)",
   "language": "python",
   "name": "python3"
  },
  "language_info": {
   "codemirror_mode": {
    "name": "ipython",
    "version": 3
   },
   "file_extension": ".py",
   "mimetype": "text/x-python",
   "name": "python",
   "nbconvert_exporter": "python",
   "pygments_lexer": "ipython3",
   "version": "3.9.7"
  }
 },
 "nbformat": 4,
 "nbformat_minor": 5
}

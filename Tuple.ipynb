{
 "cells": [
  {
   "cell_type": "markdown",
   "id": "a2b67521",
   "metadata": {},
   "source": [
    "# TUPLE \n",
    "1- A tuple is a collection which is ordered inmutable working in sequence, iterating through tuple is faster than with list\n",
    "2- define round bracket () parathesis.\n",
    "3- inmutable not change the values in tuple\n",
    "4- delete and update function cannot work in Tuple"
   ]
  },
  {
   "cell_type": "markdown",
   "id": "df017d06",
   "metadata": {},
   "source": [
    "# Tuple used function\n",
    "-1 min()\n",
    "-2 max()\n",
    "-3 count()\n",
    "-4 index()\n",
    "-5 sun()\n"
   ]
  },
  {
   "cell_type": "code",
   "execution_count": 1,
   "id": "a663f5b6",
   "metadata": {},
   "outputs": [
    {
     "name": "stdout",
     "output_type": "stream",
     "text": [
      "<class 'tuple'>\n"
     ]
    }
   ],
   "source": [
    "t=(10,20,30,40,50)\n",
    "print(type(t))"
   ]
  },
  {
   "cell_type": "code",
   "execution_count": 2,
   "id": "04525fb6",
   "metadata": {},
   "outputs": [
    {
     "data": {
      "text/plain": [
       "int"
      ]
     },
     "execution_count": 2,
     "metadata": {},
     "output_type": "execute_result"
    }
   ],
   "source": [
    "t=(10)# if you pass one element in tuple its not a tuple its type is which you use type,in tuple more than one values use\n",
    "type(t)"
   ]
  },
  {
   "cell_type": "markdown",
   "id": "f5163847",
   "metadata": {},
   "source": [
    "## accessing the values through indexing"
   ]
  },
  {
   "cell_type": "code",
   "execution_count": 4,
   "id": "22d15f34",
   "metadata": {},
   "outputs": [
    {
     "data": {
      "text/plain": [
       "40"
      ]
     },
     "execution_count": 4,
     "metadata": {},
     "output_type": "execute_result"
    }
   ],
   "source": [
    "t=(10,20,30,40,50)\n",
    "n= t[3]\n",
    "n"
   ]
  },
  {
   "cell_type": "markdown",
   "id": "d710c943",
   "metadata": {},
   "source": [
    "# Iterating Through a Tuple\n",
    "## Using a for loop we can iterate through each item in a tuple."
   ]
  },
  {
   "cell_type": "code",
   "execution_count": 5,
   "id": "5c2ae3fc",
   "metadata": {},
   "outputs": [
    {
     "name": "stdout",
     "output_type": "stream",
     "text": [
      "0\n",
      "1\n",
      "2\n",
      "3\n",
      "4\n"
     ]
    }
   ],
   "source": [
    "l=len(t)\n",
    "\n",
    "for a in range(l):\n",
    "    print(a)"
   ]
  },
  {
   "cell_type": "code",
   "execution_count": 6,
   "id": "a74f2f5d",
   "metadata": {},
   "outputs": [
    {
     "name": "stdout",
     "output_type": "stream",
     "text": [
      "10\n",
      "20\n",
      "30\n",
      "40\n",
      "50\n"
     ]
    }
   ],
   "source": [
    "for a in range(l):\n",
    "    print(t[a])"
   ]
  },
  {
   "cell_type": "markdown",
   "id": "137faf75",
   "metadata": {},
   "source": [
    "## other way"
   ]
  },
  {
   "cell_type": "code",
   "execution_count": 8,
   "id": "ebc373bf",
   "metadata": {},
   "outputs": [
    {
     "name": "stdout",
     "output_type": "stream",
     "text": [
      "10\n",
      "20\n",
      "30\n",
      "40\n",
      "50\n"
     ]
    }
   ],
   "source": [
    "for a in t:\n",
    "    print(a)"
   ]
  },
  {
   "cell_type": "markdown",
   "id": "a6bb36e0",
   "metadata": {},
   "source": [
    "# Tuple function"
   ]
  },
  {
   "cell_type": "code",
   "execution_count": 11,
   "id": "55911658",
   "metadata": {},
   "outputs": [
    {
     "data": {
      "text/plain": [
       "10"
      ]
     },
     "execution_count": 11,
     "metadata": {},
     "output_type": "execute_result"
    }
   ],
   "source": [
    "t=(10,20,30,40,50,10)\n",
    "m=min(t)\n",
    "m"
   ]
  },
  {
   "cell_type": "code",
   "execution_count": 12,
   "id": "1edf017f",
   "metadata": {},
   "outputs": [
    {
     "data": {
      "text/plain": [
       "50"
      ]
     },
     "execution_count": 12,
     "metadata": {},
     "output_type": "execute_result"
    }
   ],
   "source": [
    "m=max(t)\n",
    "m"
   ]
  },
  {
   "cell_type": "code",
   "execution_count": 14,
   "id": "e77f8172",
   "metadata": {},
   "outputs": [
    {
     "data": {
      "text/plain": [
       "2"
      ]
     },
     "execution_count": 14,
     "metadata": {},
     "output_type": "execute_result"
    }
   ],
   "source": [
    "c= t.count(10)\n",
    "c"
   ]
  },
  {
   "cell_type": "code",
   "execution_count": 15,
   "id": "a84ae3da",
   "metadata": {},
   "outputs": [
    {
     "data": {
      "text/plain": [
       "4"
      ]
     },
     "execution_count": 15,
     "metadata": {},
     "output_type": "execute_result"
    }
   ],
   "source": [
    "c=t.index(50)\n",
    "c"
   ]
  },
  {
   "cell_type": "code",
   "execution_count": 16,
   "id": "46761d26",
   "metadata": {},
   "outputs": [
    {
     "data": {
      "text/plain": [
       "160"
      ]
     },
     "execution_count": 16,
     "metadata": {},
     "output_type": "execute_result"
    }
   ],
   "source": [
    "s=sum(t)\n",
    "s"
   ]
  },
  {
   "cell_type": "code",
   "execution_count": 17,
   "id": "5d21c0d2",
   "metadata": {},
   "outputs": [
    {
     "data": {
      "text/plain": [
       "170"
      ]
     },
     "execution_count": 17,
     "metadata": {},
     "output_type": "execute_result"
    }
   ],
   "source": [
    "s=sum(t,10)\n",
    "s"
   ]
  },
  {
   "cell_type": "code",
   "execution_count": null,
   "id": "d51bff5b",
   "metadata": {},
   "outputs": [],
   "source": []
  }
 ],
 "metadata": {
  "kernelspec": {
   "display_name": "Python 3 (ipykernel)",
   "language": "python",
   "name": "python3"
  },
  "language_info": {
   "codemirror_mode": {
    "name": "ipython",
    "version": 3
   },
   "file_extension": ".py",
   "mimetype": "text/x-python",
   "name": "python",
   "nbconvert_exporter": "python",
   "pygments_lexer": "ipython3",
   "version": "3.9.7"
  }
 },
 "nbformat": 4,
 "nbformat_minor": 5
}

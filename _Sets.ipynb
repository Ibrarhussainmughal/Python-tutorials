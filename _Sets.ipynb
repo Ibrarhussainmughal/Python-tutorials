{
 "cells": [
  {
   "cell_type": "markdown",
   "id": "79322263",
   "metadata": {},
   "source": [
    "# SETS"
   ]
  },
  {
   "cell_type": "markdown",
   "id": "7d6a32fe",
   "metadata": {},
   "source": [
    "## A set is a collection which is unordered an unindexed,that is iterable,mutable,and has no duplicate elements.\n",
    "## In python sets are written with curly brackets.\n",
    "## unorder mean random numbers given\n",
    "## you can not get numbers through index in sets"
   ]
  },
  {
   "cell_type": "code",
   "execution_count": 1,
   "id": "dd9971d3",
   "metadata": {},
   "outputs": [
    {
     "data": {
      "text/plain": [
       "{10, 20, 30, 40, 50}"
      ]
     },
     "execution_count": 1,
     "metadata": {},
     "output_type": "execute_result"
    }
   ],
   "source": [
    "s ={10,20,30,40,50,10}\n",
    "s"
   ]
  },
  {
   "cell_type": "code",
   "execution_count": 2,
   "id": "521f18d0",
   "metadata": {},
   "outputs": [
    {
     "name": "stdout",
     "output_type": "stream",
     "text": [
      "50\n",
      "20\n",
      "40\n",
      "10\n",
      "30\n"
     ]
    }
   ],
   "source": [
    "for a in s:\n",
    "    print(a)"
   ]
  },
  {
   "cell_type": "markdown",
   "id": "60011245",
   "metadata": {},
   "source": [
    "# Sets Functions"
   ]
  },
  {
   "cell_type": "markdown",
   "id": "7a6258c9",
   "metadata": {},
   "source": [
    "1-sets()# if you have list or string than convert into sets.\n",
    "2-remove() # Note:if the item to remove does not exist,remove() will raise an error.\n",
    "3-discard() # Note: If the item to remove does not exist,discard() will NOT raise an error.\n",
    "4-pop() # randomly remove the elements in sets.\n",
    "5-clear() # clear all sets\n",
    "6-add() # new data add in sets.\n",
    "7-update() # update the existing list in sets,its not mean you update the values in sets.\n"
   ]
  },
  {
   "cell_type": "code",
   "execution_count": 10,
   "id": "a0426df4",
   "metadata": {},
   "outputs": [
    {
     "name": "stdout",
     "output_type": "stream",
     "text": [
      "{40, 10, 20, 30}\n"
     ]
    }
   ],
   "source": [
    "l =[10,20,30,40]\n",
    "s=set(l)\n",
    "print(s)"
   ]
  },
  {
   "cell_type": "code",
   "execution_count": 11,
   "id": "296049c3",
   "metadata": {},
   "outputs": [
    {
     "data": {
      "text/plain": [
       "{10, 30, 40}"
      ]
     },
     "execution_count": 11,
     "metadata": {},
     "output_type": "execute_result"
    }
   ],
   "source": [
    "s={10,20,30,40}\n",
    "s.remove(20)\n",
    "s"
   ]
  },
  {
   "cell_type": "code",
   "execution_count": 14,
   "id": "25c1edb5",
   "metadata": {},
   "outputs": [
    {
     "data": {
      "text/plain": [
       "{10, 20, 30}"
      ]
     },
     "execution_count": 14,
     "metadata": {},
     "output_type": "execute_result"
    }
   ],
   "source": [
    "s={10,20,30,40}\n",
    "s.discard(40)\n",
    "s"
   ]
  },
  {
   "cell_type": "code",
   "execution_count": 19,
   "id": "e675dc46",
   "metadata": {},
   "outputs": [
    {
     "data": {
      "text/plain": [
       "{12, 23, 45, 46, 67}"
      ]
     },
     "execution_count": 19,
     "metadata": {},
     "output_type": "execute_result"
    }
   ],
   "source": [
    "s= {12,23,45,46,67,66} # randomly remove any value from set. 66 delete\n",
    "s.pop()\n",
    "s"
   ]
  },
  {
   "cell_type": "code",
   "execution_count": 20,
   "id": "b96f4f6c",
   "metadata": {},
   "outputs": [
    {
     "name": "stdout",
     "output_type": "stream",
     "text": [
      "67\n"
     ]
    }
   ],
   "source": [
    "print(s.pop())# pop return the value which was delete."
   ]
  },
  {
   "cell_type": "code",
   "execution_count": 21,
   "id": "ad9fa128",
   "metadata": {},
   "outputs": [
    {
     "data": {
      "text/plain": [
       "set()"
      ]
     },
     "execution_count": 21,
     "metadata": {},
     "output_type": "execute_result"
    }
   ],
   "source": [
    "s.clear()\n",
    "s"
   ]
  },
  {
   "cell_type": "code",
   "execution_count": 22,
   "id": "b9164c28",
   "metadata": {},
   "outputs": [
    {
     "data": {
      "text/plain": [
       "{12, 23, 45, 46, 66, 67}"
      ]
     },
     "execution_count": 22,
     "metadata": {},
     "output_type": "execute_result"
    }
   ],
   "source": [
    "s= {12,23,45,46,67,66}\n",
    "s.add(67)\n",
    "s"
   ]
  },
  {
   "cell_type": "code",
   "execution_count": 23,
   "id": "56e568b7",
   "metadata": {},
   "outputs": [
    {
     "name": "stdout",
     "output_type": "stream",
     "text": [
      "{80, 50, 20, 90, 40, 10, 30}\n"
     ]
    }
   ],
   "source": [
    "l=[10,80,90]\n",
    "s={10,20,30,40,50}\n",
    "s.update(l)\n",
    "print(s)"
   ]
  },
  {
   "cell_type": "code",
   "execution_count": null,
   "id": "f5718816",
   "metadata": {},
   "outputs": [],
   "source": []
  }
 ],
 "metadata": {
  "kernelspec": {
   "display_name": "Python 3 (ipykernel)",
   "language": "python",
   "name": "python3"
  },
  "language_info": {
   "codemirror_mode": {
    "name": "ipython",
    "version": 3
   },
   "file_extension": ".py",
   "mimetype": "text/x-python",
   "name": "python",
   "nbconvert_exporter": "python",
   "pygments_lexer": "ipython3",
   "version": "3.9.7"
  }
 },
 "nbformat": 4,
 "nbformat_minor": 5
}

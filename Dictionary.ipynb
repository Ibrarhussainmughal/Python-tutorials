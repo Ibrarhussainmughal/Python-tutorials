{
 "cells": [
  {
   "cell_type": "markdown",
   "id": "5b60037e",
   "metadata": {},
   "source": [
    "# Dictionary-"
   ]
  },
  {
   "cell_type": "code",
   "execution_count": 4,
   "id": "58a024ca",
   "metadata": {},
   "outputs": [
    {
     "name": "stdout",
     "output_type": "stream",
     "text": [
      "{'name': 'python', 'fee': '8000', 'duration': '2Months'}\n"
     ]
    }
   ],
   "source": [
    "d={\n",
    "    'name':\"python\",\n",
    "    'fee':\"8000\",\n",
    "    'duration':\"2Months\"\n",
    "}\n",
    "print(d)"
   ]
  },
  {
   "cell_type": "code",
   "execution_count": 7,
   "id": "e185e135",
   "metadata": {},
   "outputs": [
    {
     "name": "stdout",
     "output_type": "stream",
     "text": [
      "<class 'dict'>\n"
     ]
    }
   ],
   "source": [
    "print(type(d))"
   ]
  },
  {
   "cell_type": "markdown",
   "id": "2e01f6ad",
   "metadata": {},
   "source": [
    "## get the any value from dictionary through key"
   ]
  },
  {
   "cell_type": "code",
   "execution_count": 8,
   "id": "11dc8026",
   "metadata": {},
   "outputs": [
    {
     "data": {
      "text/plain": [
       "'8000'"
      ]
     },
     "execution_count": 8,
     "metadata": {},
     "output_type": "execute_result"
    }
   ],
   "source": [
    "h = d[\"fee\"]\n",
    "h"
   ]
  },
  {
   "cell_type": "markdown",
   "id": "e144a881",
   "metadata": {},
   "source": [
    "## how to iterate mean all values you need to get through loop"
   ]
  },
  {
   "cell_type": "code",
   "execution_count": 9,
   "id": "bca029f8",
   "metadata": {},
   "outputs": [
    {
     "name": "stdout",
     "output_type": "stream",
     "text": [
      "name\n",
      "fee\n",
      "duration\n"
     ]
    }
   ],
   "source": [
    "for n in d:\n",
    "    print(n)"
   ]
  },
  {
   "cell_type": "code",
   "execution_count": 10,
   "id": "762daa51",
   "metadata": {},
   "outputs": [
    {
     "name": "stdout",
     "output_type": "stream",
     "text": [
      "python\n",
      "8000\n",
      "2Months\n"
     ]
    }
   ],
   "source": [
    "for n in d:\n",
    "    print(d[n])"
   ]
  },
  {
   "cell_type": "code",
   "execution_count": null,
   "id": "0e04a100",
   "metadata": {},
   "outputs": [],
   "source": []
  },
  {
   "cell_type": "markdown",
   "id": "700a09da",
   "metadata": {},
   "source": [
    "## Dictionary Function"
   ]
  },
  {
   "cell_type": "markdown",
   "id": "3959e7b3",
   "metadata": {},
   "source": [
    "## values get through get function"
   ]
  },
  {
   "cell_type": "code",
   "execution_count": 11,
   "id": "5bfacb30",
   "metadata": {},
   "outputs": [],
   "source": [
    "d= {\n",
    "    \"course\":\"python\",\n",
    "    \"fee\":\"8000\",\n",
    "    \"duration\":\"2Months\"\n",
    "}\n"
   ]
  },
  {
   "cell_type": "code",
   "execution_count": 12,
   "id": "2f25b3bb",
   "metadata": {},
   "outputs": [
    {
     "data": {
      "text/plain": [
       "'8000'"
      ]
     },
     "execution_count": 12,
     "metadata": {},
     "output_type": "execute_result"
    }
   ],
   "source": [
    "c=d.get(\"fee\")\n",
    "c"
   ]
  },
  {
   "cell_type": "markdown",
   "id": "f00036d7",
   "metadata": {},
   "source": [
    "## keys()\n",
    "1- return the keys from dictionary through loop"
   ]
  },
  {
   "cell_type": "code",
   "execution_count": 13,
   "id": "0ddb2578",
   "metadata": {},
   "outputs": [
    {
     "name": "stdout",
     "output_type": "stream",
     "text": [
      "name\n",
      "fee\n",
      "duration\n"
     ]
    }
   ],
   "source": [
    "for a in d.keys():\n",
    "    print(a)"
   ]
  },
  {
   "cell_type": "markdown",
   "id": "112b5416",
   "metadata": {},
   "source": [
    "## Values()\n",
    "1- return the values from dictionary through loop"
   ]
  },
  {
   "cell_type": "code",
   "execution_count": 14,
   "id": "643bf890",
   "metadata": {},
   "outputs": [
    {
     "name": "stdout",
     "output_type": "stream",
     "text": [
      "python\n",
      "8000\n",
      "2Months\n"
     ]
    }
   ],
   "source": [
    "for a in d.values():\n",
    "    print(a)"
   ]
  },
  {
   "cell_type": "markdown",
   "id": "08f7fb53",
   "metadata": {},
   "source": [
    "## Item()\n",
    "1-return the both keys and values in dictionary through loop"
   ]
  },
  {
   "cell_type": "code",
   "execution_count": 16,
   "id": "a04692f2",
   "metadata": {},
   "outputs": [
    {
     "name": "stdout",
     "output_type": "stream",
     "text": [
      "name python\n",
      "fee 8000\n",
      "duration 2Months\n"
     ]
    }
   ],
   "source": [
    "for a,b in d.items():\n",
    "    print(a,b)"
   ]
  },
  {
   "cell_type": "markdown",
   "id": "77155f71",
   "metadata": {},
   "source": [
    "## del\n",
    "1- del is not a function its a keyword.\n",
    "2- del delete the data from dictionary"
   ]
  },
  {
   "cell_type": "code",
   "execution_count": 17,
   "id": "4d5fb756",
   "metadata": {},
   "outputs": [
    {
     "name": "stdout",
     "output_type": "stream",
     "text": [
      "{'name': 'python', 'duration': '2Months'}\n"
     ]
    }
   ],
   "source": [
    "del d['fee']\n",
    "print(d)"
   ]
  },
  {
   "cell_type": "markdown",
   "id": "c42efddc",
   "metadata": {},
   "source": [
    "## pop()\n",
    "1- pop also delete the data and also return the value which was deleted. "
   ]
  },
  {
   "cell_type": "code",
   "execution_count": 18,
   "id": "d0613347",
   "metadata": {},
   "outputs": [
    {
     "data": {
      "text/plain": [
       "{'name': 'python'}"
      ]
     },
     "execution_count": 18,
     "metadata": {},
     "output_type": "execute_result"
    }
   ],
   "source": [
    "d.pop(\"duration\")\n",
    "d"
   ]
  },
  {
   "cell_type": "code",
   "execution_count": 19,
   "id": "bdd181c7",
   "metadata": {},
   "outputs": [
    {
     "name": "stdout",
     "output_type": "stream",
     "text": [
      "{'name': 'python'}\n"
     ]
    }
   ],
   "source": [
    "print(d)"
   ]
  },
  {
   "cell_type": "markdown",
   "id": "14b9b9a3",
   "metadata": {},
   "source": [
    "## dict()\n",
    "1- through dic() create the dictionary\n",
    "2- but must use the varaible name and its value"
   ]
  },
  {
   "cell_type": "code",
   "execution_count": 21,
   "id": "53530671",
   "metadata": {},
   "outputs": [
    {
     "data": {
      "text/plain": [
       "{'name': 'python', 'fee': '4000'}"
      ]
     },
     "execution_count": 21,
     "metadata": {},
     "output_type": "execute_result"
    }
   ],
   "source": [
    "d = dict(name=\"python\",fee=\"4000\")\n",
    "d"
   ]
  },
  {
   "cell_type": "markdown",
   "id": "4761e3ab",
   "metadata": {},
   "source": [
    "## update()\n",
    "1-update the value of dictionary"
   ]
  },
  {
   "cell_type": "code",
   "execution_count": 22,
   "id": "bc3b07af",
   "metadata": {},
   "outputs": [
    {
     "name": "stdout",
     "output_type": "stream",
     "text": [
      "{'name': 'python', 'fees': 8000, 'duration': '2 Months'}\n"
     ]
    }
   ],
   "source": [
    "d = {\n",
    "    'name':'python',\n",
    "    'fees':8000,\n",
    "    'duration':'2 Months'\n",
    "}\n",
    "print(d)"
   ]
  },
  {
   "cell_type": "code",
   "execution_count": 23,
   "id": "f036f5d0",
   "metadata": {},
   "outputs": [
    {
     "name": "stdout",
     "output_type": "stream",
     "text": [
      "{'name': 'python', 'fees': 10000, 'duration': '2 Months'}\n"
     ]
    }
   ],
   "source": [
    "d.update({'fees':10000})\n",
    "print(d)"
   ]
  },
  {
   "cell_type": "markdown",
   "id": "f32c203e",
   "metadata": {},
   "source": [
    "## clear()\n",
    "1- clear the data from dictionary"
   ]
  },
  {
   "cell_type": "code",
   "execution_count": 24,
   "id": "675d7255",
   "metadata": {},
   "outputs": [
    {
     "data": {
      "text/plain": [
       "{}"
      ]
     },
     "execution_count": 24,
     "metadata": {},
     "output_type": "execute_result"
    }
   ],
   "source": [
    "d.clear()\n",
    "d"
   ]
  },
  {
   "cell_type": "markdown",
   "id": "93f50fc2",
   "metadata": {},
   "source": [
    "## insert()\n",
    "1- how to insert new elements in dictionary\n",
    "2- if in dictionary have same name key avaible then will be updated through new key if not then insert."
   ]
  },
  {
   "cell_type": "code",
   "execution_count": 27,
   "id": "548e31bf",
   "metadata": {},
   "outputs": [
    {
     "name": "stdout",
     "output_type": "stream",
     "text": [
      "{'name': 'python', 'fees': 8000, 'duration': '2 Months'}\n"
     ]
    }
   ],
   "source": [
    "d = {\n",
    "    'name':'python',\n",
    "    'fees':8000,\n",
    "    'duration':'2 Months'\n",
    "}\n",
    "print(d)"
   ]
  },
  {
   "cell_type": "code",
   "execution_count": 28,
   "id": "050b56ed",
   "metadata": {
    "scrolled": true
   },
   "outputs": [
    {
     "name": "stdout",
     "output_type": "stream",
     "text": [
      "{'name': 'python', 'fees': 8000, 'duration': '2 Months', 'desc': 'This is python'}\n"
     ]
    }
   ],
   "source": [
    "d[\"desc\"]=\"This is python\"\n",
    "print(d)"
   ]
  },
  {
   "cell_type": "code",
   "execution_count": 30,
   "id": "03240e6d",
   "metadata": {},
   "outputs": [
    {
     "name": "stdout",
     "output_type": "stream",
     "text": [
      "{'name': 'python', 'fees': 10000, 'duration': '2 Months', 'desc': 'This is python'}\n"
     ]
    }
   ],
   "source": [
    "d['fees']=10000\n",
    "print(d)"
   ]
  },
  {
   "cell_type": "markdown",
   "id": "77e62d65",
   "metadata": {},
   "source": [
    "#Nested Dictionary\n",
    "1-Nested Dictionary means putting a dictionary inside another dictionary.\n",
    "2-Its a collection of dictionaries into one single dictionary.\n",
    "3-dictionary used  for alot of data collection or all information you need together then you can used dictionary.\n",
    "4-for example you need to collect any student all data,you have all students data so what we will do then we create dictionary \n",
    "-by name students and next we creats the nested dictionarie for each student by name and store all information each student. "
   ]
  },
  {
   "cell_type": "code",
   "execution_count": 34,
   "id": "8359e1be",
   "metadata": {},
   "outputs": [
    {
     "name": "stdout",
     "output_type": "stream",
     "text": [
      "{'php': {'duration': '3 Months', 'fees': 15000}, 'java': {'duration': '2 Months', 'fees': 10000}, 'python': {'duration': '1 Months', 'fees': 8000}}\n"
     ]
    }
   ],
   "source": [
    "course={\n",
    "    'php':{'duration':'3 Months','fees':15000},\n",
    "    'java':{'duration':'2 Months','fees':10000},\n",
    "    'python':{'duration':'1 Months','fees':8000},\n",
    "}\n",
    "print(course)"
   ]
  },
  {
   "cell_type": "code",
   "execution_count": 35,
   "id": "e9542513",
   "metadata": {},
   "outputs": [
    {
     "name": "stdout",
     "output_type": "stream",
     "text": [
      "{'duration': '3 Months', 'fees': 15000}\n"
     ]
    }
   ],
   "source": [
    "print(course['php'])"
   ]
  },
  {
   "cell_type": "code",
   "execution_count": 36,
   "id": "dfcc46e8",
   "metadata": {},
   "outputs": [
    {
     "name": "stdout",
     "output_type": "stream",
     "text": [
      "15000\n"
     ]
    }
   ],
   "source": [
    "print(course['php']['fees'])"
   ]
  },
  {
   "cell_type": "code",
   "execution_count": 37,
   "id": "af3da2c4",
   "metadata": {},
   "outputs": [],
   "source": [
    "## if you want all data get from dictionary then use the loop"
   ]
  },
  {
   "cell_type": "code",
   "execution_count": 38,
   "id": "a4daa162",
   "metadata": {},
   "outputs": [
    {
     "name": "stdout",
     "output_type": "stream",
     "text": [
      "php {'duration': '3 Months', 'fees': 15000}\n",
      "java {'duration': '2 Months', 'fees': 10000}\n",
      "python {'duration': '1 Months', 'fees': 8000}\n"
     ]
    }
   ],
   "source": [
    "for k,v in course.items():\n",
    "    print(k,v)"
   ]
  },
  {
   "cell_type": "code",
   "execution_count": 39,
   "id": "e7160b18",
   "metadata": {},
   "outputs": [
    {
     "name": "stdout",
     "output_type": "stream",
     "text": [
      "php 3 Months 15000\n",
      "java 2 Months 10000\n",
      "python 1 Months 8000\n"
     ]
    }
   ],
   "source": [
    "for k,v in course.items():\n",
    "    print(k,v['duration'],v['fees'])"
   ]
  },
  {
   "cell_type": "markdown",
   "id": "868f528e",
   "metadata": {},
   "source": [
    "## update the value of jave"
   ]
  },
  {
   "cell_type": "code",
   "execution_count": 40,
   "id": "b98c260a",
   "metadata": {},
   "outputs": [],
   "source": [
    "course['java']['fees']=20000"
   ]
  },
  {
   "cell_type": "code",
   "execution_count": 41,
   "id": "ffa92207",
   "metadata": {},
   "outputs": [
    {
     "name": "stdout",
     "output_type": "stream",
     "text": [
      "{'php': {'duration': '3 Months', 'fees': 15000}, 'java': {'duration': '2 Months', 'fees': 20000}, 'python': {'duration': '1 Months', 'fees': 8000}}\n"
     ]
    }
   ],
   "source": [
    "print(course)"
   ]
  },
  {
   "cell_type": "code",
   "execution_count": null,
   "id": "dda2b835",
   "metadata": {},
   "outputs": [],
   "source": []
  }
 ],
 "metadata": {
  "kernelspec": {
   "display_name": "Python 3 (ipykernel)",
   "language": "python",
   "name": "python3"
  },
  "language_info": {
   "codemirror_mode": {
    "name": "ipython",
    "version": 3
   },
   "file_extension": ".py",
   "mimetype": "text/x-python",
   "name": "python",
   "nbconvert_exporter": "python",
   "pygments_lexer": "ipython3",
   "version": "3.9.7"
  }
 },
 "nbformat": 4,
 "nbformat_minor": 5
}

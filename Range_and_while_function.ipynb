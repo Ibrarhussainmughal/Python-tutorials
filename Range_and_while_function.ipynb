{
 "cells": [
  {
   "cell_type": "markdown",
   "id": "c1cca97a",
   "metadata": {},
   "source": [
    "# For loop"
   ]
  },
  {
   "cell_type": "code",
   "execution_count": 25,
   "id": "93564d53",
   "metadata": {},
   "outputs": [
    {
     "name": "stdout",
     "output_type": "stream",
     "text": [
      "range(0, 5)\n"
     ]
    }
   ],
   "source": [
    "range(5) # three things is important in range, 5 is a condition in range function its less than 5 start o to 4.and by default 1 is increment\n",
    "# start = 0\n",
    "# condition<5\n",
    "# increment 1"
   ]
  },
  {
   "cell_type": "code",
   "execution_count": 13,
   "id": "672672c2",
   "metadata": {},
   "outputs": [
    {
     "name": "stdout",
     "output_type": "stream",
     "text": [
      "welcome to nahdi\n",
      "welcome to nahdi\n",
      "welcome to nahdi\n",
      "welcome to nahdi\n",
      "welcome to nahdi\n"
     ]
    }
   ],
   "source": [
    "for n in range(5):\n",
    "    print(\"welcome to nahdi\")"
   ]
  },
  {
   "cell_type": "code",
   "execution_count": 14,
   "id": "94b341f6",
   "metadata": {},
   "outputs": [
    {
     "name": "stdout",
     "output_type": "stream",
     "text": [
      "0\n",
      "1\n",
      "2\n",
      "3\n",
      "4\n"
     ]
    }
   ],
   "source": [
    "for n in range(5):\n",
    "    print(n)"
   ]
  },
  {
   "cell_type": "code",
   "execution_count": 15,
   "id": "209463bb",
   "metadata": {},
   "outputs": [
    {
     "name": "stdout",
     "output_type": "stream",
     "text": [
      "1\n",
      "2\n",
      "3\n",
      "4\n",
      "5\n"
     ]
    }
   ],
   "source": [
    "for n in range(1,6):\n",
    "    print(n)"
   ]
  },
  {
   "cell_type": "code",
   "execution_count": 16,
   "id": "fa138e1f",
   "metadata": {},
   "outputs": [
    {
     "name": "stdout",
     "output_type": "stream",
     "text": [
      "1\n",
      "3\n",
      "5\n",
      "7\n",
      "9\n"
     ]
    }
   ],
   "source": [
    "for n in range(1,10,2):\n",
    "    print(n)"
   ]
  },
  {
   "cell_type": "code",
   "execution_count": 17,
   "id": "2a139597",
   "metadata": {},
   "outputs": [
    {
     "name": "stdout",
     "output_type": "stream",
     "text": [
      "2\n",
      "4\n",
      "6\n",
      "8\n",
      "10\n",
      "12\n",
      "14\n",
      "16\n",
      "18\n",
      "20\n"
     ]
    }
   ],
   "source": [
    "for n in range(1,11):\n",
    "    print(2*n)"
   ]
  },
  {
   "cell_type": "code",
   "execution_count": 18,
   "id": "2d41fcd7",
   "metadata": {},
   "outputs": [
    {
     "name": "stdout",
     "output_type": "stream",
     "text": [
      "2* 1 = 2\n",
      "2* 2 = 4\n",
      "2* 3 = 6\n",
      "2* 4 = 8\n",
      "2* 5 = 10\n",
      "2* 6 = 12\n",
      "2* 7 = 14\n",
      "2* 8 = 16\n",
      "2* 9 = 18\n",
      "2* 10 = 20\n"
     ]
    }
   ],
   "source": [
    "for n in range(1,11):\n",
    "    print(\"2*\",n,\"=\",2*n)"
   ]
  },
  {
   "cell_type": "code",
   "execution_count": 19,
   "id": "0e8a61ff",
   "metadata": {},
   "outputs": [
    {
     "data": {
      "text/plain": [
       "range(0, 10)"
      ]
     },
     "execution_count": 19,
     "metadata": {},
     "output_type": "execute_result"
    }
   ],
   "source": [
    "range(10)"
   ]
  },
  {
   "cell_type": "code",
   "execution_count": 20,
   "id": "272ce9d9",
   "metadata": {},
   "outputs": [
    {
     "name": "stdout",
     "output_type": "stream",
     "text": [
      "10\n",
      "9\n",
      "8\n",
      "7\n",
      "6\n",
      "5\n",
      "4\n",
      "3\n",
      "2\n"
     ]
    }
   ],
   "source": [
    "for n in range(10,1,-1):\n",
    "    print(n)"
   ]
  },
  {
   "cell_type": "markdown",
   "id": "f4338c6a",
   "metadata": {},
   "source": [
    "# While loop"
   ]
  },
  {
   "cell_type": "code",
   "execution_count": 21,
   "id": "02dbe136",
   "metadata": {},
   "outputs": [
    {
     "name": "stdout",
     "output_type": "stream",
     "text": [
      "welcome to nahdi\n",
      "welcome to nahdi\n",
      "welcome to nahdi\n",
      "welcome to nahdi\n",
      "welcome to nahdi\n",
      "welcome to nahdi\n",
      "welcome to nahdi\n",
      "welcome to nahdi\n",
      "welcome to nahdi\n",
      "welcome to nahdi\n"
     ]
    }
   ],
   "source": [
    "i = 1\n",
    "while i<=10:\n",
    "    print(\"welcome to nahdi\")\n",
    "    i= i+1"
   ]
  },
  {
   "cell_type": "code",
   "execution_count": 22,
   "id": "f123b2f7",
   "metadata": {},
   "outputs": [
    {
     "name": "stdout",
     "output_type": "stream",
     "text": [
      "1 welcome to nahdi\n",
      "2 welcome to nahdi\n",
      "3 welcome to nahdi\n",
      "4 welcome to nahdi\n",
      "5 welcome to nahdi\n"
     ]
    }
   ],
   "source": [
    "i = 1\n",
    "while i<=5:\n",
    "    print(i,\"welcome to nahdi\")\n",
    "    i = i+1"
   ]
  },
  {
   "cell_type": "markdown",
   "id": "3cc4a321",
   "metadata": {},
   "source": [
    "# reverse while loop"
   ]
  },
  {
   "cell_type": "code",
   "execution_count": 23,
   "id": "6bf75450",
   "metadata": {},
   "outputs": [
    {
     "name": "stdout",
     "output_type": "stream",
     "text": [
      "10 hello\n",
      "9 hello\n",
      "8 hello\n",
      "7 hello\n",
      "6 hello\n",
      "5 hello\n",
      "4 hello\n",
      "3 hello\n",
      "2 hello\n",
      "1 hello\n"
     ]
    }
   ],
   "source": [
    "a = 10\n",
    "while a>=1:\n",
    "    print(a,\"hello\")\n",
    "    a = a-1"
   ]
  },
  {
   "cell_type": "code",
   "execution_count": null,
   "id": "b9a7be88",
   "metadata": {},
   "outputs": [],
   "source": []
  }
 ],
 "metadata": {
  "kernelspec": {
   "display_name": "Python 3 (ipykernel)",
   "language": "python",
   "name": "python3"
  },
  "language_info": {
   "codemirror_mode": {
    "name": "ipython",
    "version": 3
   },
   "file_extension": ".py",
   "mimetype": "text/x-python",
   "name": "python",
   "nbconvert_exporter": "python",
   "pygments_lexer": "ipython3",
   "version": "3.9.7"
  }
 },
 "nbformat": 4,
 "nbformat_minor": 5
}

{
 "cells": [
  {
   "cell_type": "markdown",
   "id": "71f902a6",
   "metadata": {},
   "source": [
    "# LIST ALL CODES IS FOLLOWING-"
   ]
  },
  {
   "cell_type": "code",
   "execution_count": null,
   "id": "6889c55b",
   "metadata": {},
   "outputs": [],
   "source": [
    "# lis is  Mutable\n",
    "\n",
    "# use square brackets [] in list\n",
    "\n",
    "# you can use multiple values in list\n",
    "\n",
    "l =[10,30,40,50,\"hello\"]\n",
    "\n",
    "print(type(l))\n",
    "\n",
    "print(l[2],l[4])\n",
    "\n",
    "print(l[0:2])\n",
    "\n",
    "print(l[0::2])\n",
    "\n",
    "print(l[3:])\n",
    "\n",
    "print(l[-1::-1])"
   ]
  },
  {
   "cell_type": "markdown",
   "id": "99f74c4e",
   "metadata": {},
   "source": [
    "# LIST CODES EXECUTED"
   ]
  },
  {
   "cell_type": "markdown",
   "id": "019821af",
   "metadata": {},
   "source": [
    "## Data_types "
   ]
  },
  {
   "cell_type": "code",
   "execution_count": 1,
   "id": "7bc74381",
   "metadata": {},
   "outputs": [
    {
     "name": "stdout",
     "output_type": "stream",
     "text": [
      "<class 'list'>\n"
     ]
    }
   ],
   "source": [
    "l =[10,30,40,50,\"hello\"]\n",
    "print(type(l))"
   ]
  },
  {
   "cell_type": "markdown",
   "id": "9e4e227a",
   "metadata": {},
   "source": [
    "## get two values from list l with use index"
   ]
  },
  {
   "cell_type": "code",
   "execution_count": 2,
   "id": "3b41dd9c",
   "metadata": {},
   "outputs": [
    {
     "name": "stdout",
     "output_type": "stream",
     "text": [
      "40 hello\n"
     ]
    }
   ],
   "source": [
    "print(l[2],l[4])"
   ]
  },
  {
   "cell_type": "markdown",
   "id": "a645a70f",
   "metadata": {},
   "source": [
    "## slicing and returns list"
   ]
  },
  {
   "cell_type": "code",
   "execution_count": 12,
   "id": "34f979c2",
   "metadata": {
    "scrolled": false
   },
   "outputs": [
    {
     "data": {
      "text/plain": [
       "[10, 30, 40, 50, 'hello']"
      ]
     },
     "execution_count": 12,
     "metadata": {},
     "output_type": "execute_result"
    }
   ],
   "source": [
    "l=[10,30,40,50,\"hello\"]\n",
    "l"
   ]
  },
  {
   "cell_type": "code",
   "execution_count": 13,
   "id": "8ea46e08",
   "metadata": {},
   "outputs": [
    {
     "data": {
      "text/plain": [
       "[10, 30, 40, 50]"
      ]
     },
     "execution_count": 13,
     "metadata": {},
     "output_type": "execute_result"
    }
   ],
   "source": [
    "l[0:4]"
   ]
  },
  {
   "cell_type": "code",
   "execution_count": 3,
   "id": "dad9c77e",
   "metadata": {},
   "outputs": [
    {
     "name": "stdout",
     "output_type": "stream",
     "text": [
      "[10, 30]\n"
     ]
    }
   ],
   "source": [
    "print(l[0:2])"
   ]
  },
  {
   "cell_type": "code",
   "execution_count": 4,
   "id": "33981b47",
   "metadata": {},
   "outputs": [
    {
     "name": "stdout",
     "output_type": "stream",
     "text": [
      "[50, 'hello']\n"
     ]
    }
   ],
   "source": [
    "print(l[3:])"
   ]
  },
  {
   "cell_type": "markdown",
   "id": "09508d26",
   "metadata": {},
   "source": [
    "## Reverse slicing"
   ]
  },
  {
   "cell_type": "code",
   "execution_count": 5,
   "id": "f58a82d2",
   "metadata": {},
   "outputs": [
    {
     "name": "stdout",
     "output_type": "stream",
     "text": [
      "['hello', 50, 40, 30, 10]\n"
     ]
    }
   ],
   "source": [
    "print(l[-1::-1])\n"
   ]
  },
  {
   "cell_type": "code",
   "execution_count": null,
   "id": "8df4a37e",
   "metadata": {},
   "outputs": [],
   "source": []
  }
 ],
 "metadata": {
  "kernelspec": {
   "display_name": "Python 3 (ipykernel)",
   "language": "python",
   "name": "python3"
  },
  "language_info": {
   "codemirror_mode": {
    "name": "ipython",
    "version": 3
   },
   "file_extension": ".py",
   "mimetype": "text/x-python",
   "name": "python",
   "nbconvert_exporter": "python",
   "pygments_lexer": "ipython3",
   "version": "3.9.7"
  }
 },
 "nbformat": 4,
 "nbformat_minor": 5
}

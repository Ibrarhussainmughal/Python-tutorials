{
 "cells": [
  {
   "cell_type": "code",
   "execution_count": 1,
   "id": "d24cce2f",
   "metadata": {},
   "outputs": [],
   "source": [
    "x = 10"
   ]
  },
  {
   "cell_type": "code",
   "execution_count": 3,
   "id": "3216696b",
   "metadata": {},
   "outputs": [],
   "source": [
    "y = 20"
   ]
  },
  {
   "cell_type": "code",
   "execution_count": 4,
   "id": "f10830a8",
   "metadata": {},
   "outputs": [
    {
     "data": {
      "text/plain": [
       "30"
      ]
     },
     "execution_count": 4,
     "metadata": {},
     "output_type": "execute_result"
    }
   ],
   "source": [
    "x + y"
   ]
  },
  {
   "cell_type": "code",
   "execution_count": 5,
   "id": "61d50048",
   "metadata": {},
   "outputs": [
    {
     "data": {
      "text/plain": [
       "200"
      ]
     },
     "execution_count": 5,
     "metadata": {},
     "output_type": "execute_result"
    }
   ],
   "source": [
    "x*y"
   ]
  },
  {
   "cell_type": "markdown",
   "id": "ceea2de8",
   "metadata": {},
   "source": [
    "# Data types"
   ]
  },
  {
   "cell_type": "markdown",
   "id": "cf627636",
   "metadata": {},
   "source": [
    "# Numerical Data types"
   ]
  },
  {
   "cell_type": "code",
   "execution_count": 8,
   "id": "bdf8f885",
   "metadata": {},
   "outputs": [],
   "source": [
    "y =20"
   ]
  },
  {
   "cell_type": "code",
   "execution_count": 9,
   "id": "546e2229",
   "metadata": {},
   "outputs": [],
   "source": [
    "x = 10"
   ]
  },
  {
   "cell_type": "code",
   "execution_count": 10,
   "id": "86814181",
   "metadata": {},
   "outputs": [
    {
     "data": {
      "text/plain": [
       "int"
      ]
     },
     "execution_count": 10,
     "metadata": {},
     "output_type": "execute_result"
    }
   ],
   "source": [
    "type(x)"
   ]
  },
  {
   "cell_type": "code",
   "execution_count": 11,
   "id": "53786959",
   "metadata": {},
   "outputs": [],
   "source": [
    "x = 10.25"
   ]
  },
  {
   "cell_type": "code",
   "execution_count": 12,
   "id": "a5d736fa",
   "metadata": {},
   "outputs": [
    {
     "data": {
      "text/plain": [
       "float"
      ]
     },
     "execution_count": 12,
     "metadata": {},
     "output_type": "execute_result"
    }
   ],
   "source": [
    "type(x)"
   ]
  },
  {
   "cell_type": "code",
   "execution_count": 13,
   "id": "3d43814a",
   "metadata": {},
   "outputs": [],
   "source": [
    "x = 10j"
   ]
  },
  {
   "cell_type": "code",
   "execution_count": 14,
   "id": "2b5dd32c",
   "metadata": {},
   "outputs": [
    {
     "data": {
      "text/plain": [
       "complex"
      ]
     },
     "execution_count": 14,
     "metadata": {},
     "output_type": "execute_result"
    }
   ],
   "source": [
    "type(x)"
   ]
  },
  {
   "cell_type": "code",
   "execution_count": 15,
   "id": "34e53a03",
   "metadata": {},
   "outputs": [],
   "source": [
    "num = 10>9"
   ]
  },
  {
   "cell_type": "code",
   "execution_count": 16,
   "id": "791db961",
   "metadata": {},
   "outputs": [
    {
     "data": {
      "text/plain": [
       "bool"
      ]
     },
     "execution_count": 16,
     "metadata": {},
     "output_type": "execute_result"
    }
   ],
   "source": [
    "type(num)"
   ]
  },
  {
   "cell_type": "code",
   "execution_count": 17,
   "id": "54ef8a6b",
   "metadata": {},
   "outputs": [
    {
     "data": {
      "text/plain": [
       "True"
      ]
     },
     "execution_count": 17,
     "metadata": {},
     "output_type": "execute_result"
    }
   ],
   "source": [
    "num"
   ]
  },
  {
   "cell_type": "code",
   "execution_count": null,
   "id": "03287f44",
   "metadata": {},
   "outputs": [],
   "source": []
  },
  {
   "cell_type": "markdown",
   "id": "d511d907",
   "metadata": {},
   "source": [
    "# String Data types and different operations with string"
   ]
  },
  {
   "cell_type": "code",
   "execution_count": 36,
   "id": "014beaee",
   "metadata": {},
   "outputs": [
    {
     "data": {
      "text/plain": [
       "'hussain'"
      ]
     },
     "execution_count": 36,
     "metadata": {},
     "output_type": "execute_result"
    }
   ],
   "source": [
    "name =\"hussain\"\n",
    "name"
   ]
  },
  {
   "cell_type": "code",
   "execution_count": 38,
   "id": "0cd73c41",
   "metadata": {},
   "outputs": [
    {
     "data": {
      "text/plain": [
       "7"
      ]
     },
     "execution_count": 38,
     "metadata": {},
     "output_type": "execute_result"
    }
   ],
   "source": [
    "len(name)"
   ]
  },
  {
   "cell_type": "code",
   "execution_count": 39,
   "id": "c8ef2194",
   "metadata": {},
   "outputs": [
    {
     "data": {
      "text/plain": [
       "'s'"
      ]
     },
     "execution_count": 39,
     "metadata": {},
     "output_type": "execute_result"
    }
   ],
   "source": [
    "name[2]"
   ]
  },
  {
   "cell_type": "code",
   "execution_count": 40,
   "id": "a9889832",
   "metadata": {},
   "outputs": [
    {
     "ename": "TypeError",
     "evalue": "'str' object does not support item assignment",
     "output_type": "error",
     "traceback": [
      "\u001b[0;31m---------------------------------------------------------------------------\u001b[0m",
      "\u001b[0;31mTypeError\u001b[0m                                 Traceback (most recent call last)",
      "\u001b[0;32m/tmp/ipykernel_4480/708531483.py\u001b[0m in \u001b[0;36m<module>\u001b[0;34m\u001b[0m\n\u001b[0;32m----> 1\u001b[0;31m \u001b[0mname\u001b[0m\u001b[0;34m[\u001b[0m\u001b[0;36m2\u001b[0m\u001b[0;34m]\u001b[0m \u001b[0;34m=\u001b[0m \u001b[0;34m'd'\u001b[0m\u001b[0;34m\u001b[0m\u001b[0;34m\u001b[0m\u001b[0m\n\u001b[0m",
      "\u001b[0;31mTypeError\u001b[0m: 'str' object does not support item assignment"
     ]
    }
   ],
   "source": [
    "name[2] = 'd'"
   ]
  },
  {
   "cell_type": "markdown",
   "id": "742b5176",
   "metadata": {},
   "source": [
    "its mean strings are imutable cannot change it."
   ]
  },
  {
   "cell_type": "code",
   "execution_count": 41,
   "id": "54574775",
   "metadata": {},
   "outputs": [
    {
     "data": {
      "text/plain": [
       "'ssain'"
      ]
     },
     "execution_count": 41,
     "metadata": {},
     "output_type": "execute_result"
    }
   ],
   "source": [
    "name[2:7]"
   ]
  },
  {
   "cell_type": "code",
   "execution_count": 42,
   "id": "c09d560e",
   "metadata": {},
   "outputs": [
    {
     "data": {
      "text/plain": [
       "'hussain'"
      ]
     },
     "execution_count": 42,
     "metadata": {},
     "output_type": "execute_result"
    }
   ],
   "source": [
    "name[0:]"
   ]
  },
  {
   "cell_type": "code",
   "execution_count": 43,
   "id": "577af072",
   "metadata": {},
   "outputs": [
    {
     "data": {
      "text/plain": [
       "'sa'"
      ]
     },
     "execution_count": 43,
     "metadata": {},
     "output_type": "execute_result"
    }
   ],
   "source": [
    "name[3:5]"
   ]
  },
  {
   "cell_type": "code",
   "execution_count": 44,
   "id": "97bb8cdc",
   "metadata": {},
   "outputs": [
    {
     "data": {
      "text/plain": [
       "'ssain'"
      ]
     },
     "execution_count": 44,
     "metadata": {},
     "output_type": "execute_result"
    }
   ],
   "source": [
    "name[2:8]"
   ]
  },
  {
   "cell_type": "code",
   "execution_count": 45,
   "id": "52324029",
   "metadata": {},
   "outputs": [
    {
     "data": {
      "text/plain": [
       "'HUSSAIN'"
      ]
     },
     "execution_count": 45,
     "metadata": {},
     "output_type": "execute_result"
    }
   ],
   "source": [
    "name.upper()"
   ]
  },
  {
   "cell_type": "code",
   "execution_count": 46,
   "id": "61c98ba7",
   "metadata": {},
   "outputs": [
    {
     "data": {
      "text/plain": [
       "'hussain'"
      ]
     },
     "execution_count": 46,
     "metadata": {},
     "output_type": "execute_result"
    }
   ],
   "source": [
    "name.lower()"
   ]
  },
  {
   "cell_type": "code",
   "execution_count": 47,
   "id": "c6ac6ae4",
   "metadata": {},
   "outputs": [
    {
     "data": {
      "text/plain": [
       "'i'"
      ]
     },
     "execution_count": 47,
     "metadata": {},
     "output_type": "execute_result"
    }
   ],
   "source": [
    "name[-2]"
   ]
  },
  {
   "cell_type": "code",
   "execution_count": 49,
   "id": "b046f884",
   "metadata": {},
   "outputs": [
    {
     "data": {
      "text/plain": [
       "'i'"
      ]
     },
     "execution_count": 49,
     "metadata": {},
     "output_type": "execute_result"
    }
   ],
   "source": [
    "name[5]"
   ]
  },
  {
   "cell_type": "code",
   "execution_count": 50,
   "id": "e82bcd8f",
   "metadata": {},
   "outputs": [],
   "source": [
    "# List Data Types"
   ]
  },
  {
   "cell_type": "code",
   "execution_count": 51,
   "id": "9a717bb5",
   "metadata": {},
   "outputs": [],
   "source": [
    "# ordered,can be changed.Duplicate entries are present."
   ]
  },
  {
   "cell_type": "code",
   "execution_count": 53,
   "id": "63f60c46",
   "metadata": {},
   "outputs": [
    {
     "data": {
      "text/plain": [
       "[10, 20, 30, 40, 'hussain', 'bakery']"
      ]
     },
     "execution_count": 53,
     "metadata": {},
     "output_type": "execute_result"
    }
   ],
   "source": [
    "mylist = [10,20,30,40,\"hussain\",\"bakery\"]\n",
    "mylist"
   ]
  },
  {
   "cell_type": "code",
   "execution_count": 54,
   "id": "52b85e1c",
   "metadata": {},
   "outputs": [
    {
     "data": {
      "text/plain": [
       "[30, 40, 'hussain']"
      ]
     },
     "execution_count": 54,
     "metadata": {},
     "output_type": "execute_result"
    }
   ],
   "source": [
    "mylist[2:5]"
   ]
  },
  {
   "cell_type": "code",
   "execution_count": 56,
   "id": "24fafe26",
   "metadata": {},
   "outputs": [],
   "source": [
    "mylist[3] = \"ali\""
   ]
  },
  {
   "cell_type": "code",
   "execution_count": 57,
   "id": "02be64bf",
   "metadata": {},
   "outputs": [
    {
     "data": {
      "text/plain": [
       "[10, 20, 30, 'ali', 'hussain', 'bakery']"
      ]
     },
     "execution_count": 57,
     "metadata": {},
     "output_type": "execute_result"
    }
   ],
   "source": [
    "mylist"
   ]
  },
  {
   "cell_type": "code",
   "execution_count": 58,
   "id": "a38b18db",
   "metadata": {},
   "outputs": [],
   "source": [
    "mylist.append(10)"
   ]
  },
  {
   "cell_type": "code",
   "execution_count": 59,
   "id": "ea8a253a",
   "metadata": {},
   "outputs": [
    {
     "data": {
      "text/plain": [
       "[10, 20, 30, 'ali', 'hussain', 'bakery', 10]"
      ]
     },
     "execution_count": 59,
     "metadata": {},
     "output_type": "execute_result"
    }
   ],
   "source": [
    "mylist"
   ]
  },
  {
   "cell_type": "code",
   "execution_count": 62,
   "id": "d2fc3144",
   "metadata": {},
   "outputs": [],
   "source": [
    "mylist.insert(0,100)"
   ]
  },
  {
   "cell_type": "code",
   "execution_count": 63,
   "id": "9af63870",
   "metadata": {},
   "outputs": [
    {
     "data": {
      "text/plain": [
       "[100, 10, 20, 30, 'ali', 'hussain', 'bakery', 10, 100]"
      ]
     },
     "execution_count": 63,
     "metadata": {},
     "output_type": "execute_result"
    }
   ],
   "source": [
    "mylist"
   ]
  },
  {
   "cell_type": "code",
   "execution_count": 65,
   "id": "66db68e5",
   "metadata": {},
   "outputs": [],
   "source": [
    "mylist.insert(4,\"ibrar\")"
   ]
  },
  {
   "cell_type": "code",
   "execution_count": 66,
   "id": "8c81e507",
   "metadata": {},
   "outputs": [
    {
     "data": {
      "text/plain": [
       "[100, 10, 20, 30, 'ibrar', 'ali', 'hussain', 'bakery', 10, 100]"
      ]
     },
     "execution_count": 66,
     "metadata": {},
     "output_type": "execute_result"
    }
   ],
   "source": [
    "mylist"
   ]
  },
  {
   "cell_type": "code",
   "execution_count": 67,
   "id": "3e2bba09",
   "metadata": {},
   "outputs": [],
   "source": [
    "mylist.reverse()"
   ]
  },
  {
   "cell_type": "code",
   "execution_count": 68,
   "id": "bc03ac1c",
   "metadata": {},
   "outputs": [
    {
     "data": {
      "text/plain": [
       "[100, 10, 'bakery', 'hussain', 'ali', 'ibrar', 30, 20, 10, 100]"
      ]
     },
     "execution_count": 68,
     "metadata": {},
     "output_type": "execute_result"
    }
   ],
   "source": [
    "mylist"
   ]
  },
  {
   "cell_type": "code",
   "execution_count": 69,
   "id": "a88c4a14",
   "metadata": {},
   "outputs": [],
   "source": [
    "# Data types Dictionary and different operation with Dictionary"
   ]
  },
  {
   "cell_type": "code",
   "execution_count": 70,
   "id": "0c4ac6a8",
   "metadata": {},
   "outputs": [],
   "source": [
    "# Unorderd,can be changed.No Duplicate entries are present."
   ]
  },
  {
   "cell_type": "code",
   "execution_count": 71,
   "id": "4fe7b3c9",
   "metadata": {},
   "outputs": [],
   "source": [
    "courses = {1: \"python\",\n",
    "          2:\"datascience\",\"third\":\"machine learnign\"}"
   ]
  },
  {
   "cell_type": "code",
   "execution_count": 72,
   "id": "91a20fe4",
   "metadata": {},
   "outputs": [
    {
     "data": {
      "text/plain": [
       "{1: 'python', 2: 'datascience', 'third': 'machine learnign'}"
      ]
     },
     "execution_count": 72,
     "metadata": {},
     "output_type": "execute_result"
    }
   ],
   "source": [
    "courses"
   ]
  },
  {
   "cell_type": "code",
   "execution_count": 73,
   "id": "1b6e482e",
   "metadata": {},
   "outputs": [
    {
     "data": {
      "text/plain": [
       "'machine learnign'"
      ]
     },
     "execution_count": 73,
     "metadata": {},
     "output_type": "execute_result"
    }
   ],
   "source": [
    "courses[\"third\"]"
   ]
  },
  {
   "cell_type": "code",
   "execution_count": 74,
   "id": "11b01c4d",
   "metadata": {},
   "outputs": [],
   "source": [
    "courses[\"third\"] = \"Deep learning\""
   ]
  },
  {
   "cell_type": "code",
   "execution_count": 75,
   "id": "d854aaf3",
   "metadata": {},
   "outputs": [
    {
     "data": {
      "text/plain": [
       "{1: 'python', 2: 'datascience', 'third': 'Deep learning'}"
      ]
     },
     "execution_count": 75,
     "metadata": {},
     "output_type": "execute_result"
    }
   ],
   "source": [
    "courses"
   ]
  },
  {
   "cell_type": "code",
   "execution_count": 76,
   "id": "181cae4d",
   "metadata": {},
   "outputs": [],
   "source": [
    "courses[\"four\"] = \"Data Analysis\""
   ]
  },
  {
   "cell_type": "code",
   "execution_count": 77,
   "id": "2ef2c05b",
   "metadata": {},
   "outputs": [
    {
     "data": {
      "text/plain": [
       "{1: 'python',\n",
       " 2: 'datascience',\n",
       " 'third': 'Deep learning',\n",
       " 'four': 'Data Analysis'}"
      ]
     },
     "execution_count": 77,
     "metadata": {},
     "output_type": "execute_result"
    }
   ],
   "source": [
    "courses"
   ]
  },
  {
   "cell_type": "code",
   "execution_count": 78,
   "id": "8c734bb4",
   "metadata": {},
   "outputs": [],
   "source": [
    "# Data types Tupple and different operation with Tupple"
   ]
  },
  {
   "cell_type": "code",
   "execution_count": 80,
   "id": "1b925e2c",
   "metadata": {},
   "outputs": [],
   "source": [
    "# Orderd, cannot be changed.Duplicate entries are present,its like a string."
   ]
  },
  {
   "cell_type": "code",
   "execution_count": 86,
   "id": "fddd705b",
   "metadata": {},
   "outputs": [
    {
     "data": {
      "text/plain": [
       "'tiger'"
      ]
     },
     "execution_count": 86,
     "metadata": {},
     "output_type": "execute_result"
    }
   ],
   "source": [
    "animals = (10,10,\"tiger\",\"lion\",\"giraffe\",\"tiger\")\n",
    "animals[2]"
   ]
  },
  {
   "cell_type": "code",
   "execution_count": 87,
   "id": "90528cb7",
   "metadata": {},
   "outputs": [
    {
     "data": {
      "text/plain": [
       "2"
      ]
     },
     "execution_count": 87,
     "metadata": {},
     "output_type": "execute_result"
    }
   ],
   "source": [
    "animals.count(\"tiger\")"
   ]
  },
  {
   "cell_type": "code",
   "execution_count": 88,
   "id": "f0f20ee7",
   "metadata": {},
   "outputs": [],
   "source": [
    "# Data types SET  and different operation with SET"
   ]
  },
  {
   "cell_type": "code",
   "execution_count": 89,
   "id": "634c311c",
   "metadata": {},
   "outputs": [],
   "source": [
    "# Unordered,No Duplicate entries  are present."
   ]
  },
  {
   "cell_type": "code",
   "execution_count": 90,
   "id": "ac44965d",
   "metadata": {},
   "outputs": [],
   "source": [
    "myset = (10,20,30,40,30,\"hussain\",\"courses\")"
   ]
  },
  {
   "cell_type": "code",
   "execution_count": 91,
   "id": "66a7cf27",
   "metadata": {},
   "outputs": [
    {
     "data": {
      "text/plain": [
       "(10, 20, 30, 40, 30, 'hussain', 'courses')"
      ]
     },
     "execution_count": 91,
     "metadata": {},
     "output_type": "execute_result"
    }
   ],
   "source": [
    "myset"
   ]
  },
  {
   "cell_type": "code",
   "execution_count": 92,
   "id": "5a792533",
   "metadata": {},
   "outputs": [
    {
     "data": {
      "text/plain": [
       "40"
      ]
     },
     "execution_count": 92,
     "metadata": {},
     "output_type": "execute_result"
    }
   ],
   "source": [
    "myset[3]"
   ]
  },
  {
   "cell_type": "code",
   "execution_count": 93,
   "id": "eaddc592",
   "metadata": {},
   "outputs": [
    {
     "data": {
      "text/plain": [
       "range(0, 10)"
      ]
     },
     "execution_count": 93,
     "metadata": {},
     "output_type": "execute_result"
    }
   ],
   "source": [
    "range(10)"
   ]
  },
  {
   "cell_type": "code",
   "execution_count": 94,
   "id": "11d68406",
   "metadata": {},
   "outputs": [
    {
     "data": {
      "text/plain": [
       "[0, 1, 2, 3, 4, 5, 6, 7, 8, 9, 10]"
      ]
     },
     "execution_count": 94,
     "metadata": {},
     "output_type": "execute_result"
    }
   ],
   "source": [
    "list(range(11))"
   ]
  },
  {
   "cell_type": "code",
   "execution_count": 95,
   "id": "8b2ff564",
   "metadata": {},
   "outputs": [],
   "source": [
    "a = [1,2,3,4,5]"
   ]
  },
  {
   "cell_type": "code",
   "execution_count": 99,
   "id": "adcd7cd9",
   "metadata": {},
   "outputs": [],
   "source": [
    "b ={6,7,8,9,10}"
   ]
  },
  {
   "cell_type": "code",
   "execution_count": 100,
   "id": "66f6b997",
   "metadata": {},
   "outputs": [],
   "source": [
    "c = [a,b]"
   ]
  },
  {
   "cell_type": "code",
   "execution_count": 101,
   "id": "ccc873db",
   "metadata": {},
   "outputs": [
    {
     "data": {
      "text/plain": [
       "[[1, 2, 3, 4, 5], {6, 7, 8, 9, 10}]"
      ]
     },
     "execution_count": 101,
     "metadata": {},
     "output_type": "execute_result"
    }
   ],
   "source": [
    "c"
   ]
  },
  {
   "cell_type": "code",
   "execution_count": 102,
   "id": "ac2a034f",
   "metadata": {},
   "outputs": [],
   "source": [
    "# type conversion,how to convert datatype int to string"
   ]
  },
  {
   "cell_type": "code",
   "execution_count": 103,
   "id": "c958c053",
   "metadata": {},
   "outputs": [],
   "source": [
    "x =10"
   ]
  },
  {
   "cell_type": "code",
   "execution_count": 104,
   "id": "9ca4d718",
   "metadata": {},
   "outputs": [],
   "source": [
    "name =\"name\""
   ]
  },
  {
   "cell_type": "code",
   "execution_count": 105,
   "id": "da478ce3",
   "metadata": {},
   "outputs": [
    {
     "ename": "TypeError",
     "evalue": "unsupported operand type(s) for +: 'int' and 'str'",
     "output_type": "error",
     "traceback": [
      "\u001b[0;31m---------------------------------------------------------------------------\u001b[0m",
      "\u001b[0;31mTypeError\u001b[0m                                 Traceback (most recent call last)",
      "\u001b[0;32m/tmp/ipykernel_4480/920035452.py\u001b[0m in \u001b[0;36m<module>\u001b[0;34m\u001b[0m\n\u001b[0;32m----> 1\u001b[0;31m \u001b[0mx\u001b[0m \u001b[0;34m+\u001b[0m \u001b[0mname\u001b[0m\u001b[0;34m\u001b[0m\u001b[0;34m\u001b[0m\u001b[0m\n\u001b[0m",
      "\u001b[0;31mTypeError\u001b[0m: unsupported operand type(s) for +: 'int' and 'str'"
     ]
    }
   ],
   "source": [
    "x + name"
   ]
  },
  {
   "cell_type": "code",
   "execution_count": 106,
   "id": "7a811497",
   "metadata": {},
   "outputs": [
    {
     "data": {
      "text/plain": [
       "'10name'"
      ]
     },
     "execution_count": 106,
     "metadata": {},
     "output_type": "execute_result"
    }
   ],
   "source": [
    "str(x) + name"
   ]
  },
  {
   "cell_type": "code",
   "execution_count": 107,
   "id": "4fb4544b",
   "metadata": {},
   "outputs": [
    {
     "data": {
      "text/plain": [
       "[6, 7, 8, 9, 10]"
      ]
     },
     "execution_count": 107,
     "metadata": {},
     "output_type": "execute_result"
    }
   ],
   "source": [
    "list(b) # dictionary conveted into list"
   ]
  },
  {
   "cell_type": "code",
   "execution_count": null,
   "id": "61c613e3",
   "metadata": {},
   "outputs": [],
   "source": []
  },
  {
   "cell_type": "code",
   "execution_count": null,
   "id": "43eceb89",
   "metadata": {},
   "outputs": [],
   "source": []
  }
 ],
 "metadata": {
  "kernelspec": {
   "display_name": "Python 3 (ipykernel)",
   "language": "python",
   "name": "python3"
  },
  "language_info": {
   "codemirror_mode": {
    "name": "ipython",
    "version": 3
   },
   "file_extension": ".py",
   "mimetype": "text/x-python",
   "name": "python",
   "nbconvert_exporter": "python",
   "pygments_lexer": "ipython3",
   "version": "3.9.7"
  }
 },
 "nbformat": 4,
 "nbformat_minor": 5
}
